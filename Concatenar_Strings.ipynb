{
  "nbformat": 4,
  "nbformat_minor": 0,
  "metadata": {
    "colab": {
      "provenance": [],
      "authorship_tag": "ABX9TyOyBfqayPXJH5p0fFfSaJNy",
      "include_colab_link": true
    },
    "kernelspec": {
      "name": "python3",
      "display_name": "Python 3"
    },
    "language_info": {
      "name": "python"
    }
  },
  "cells": [
    {
      "cell_type": "markdown",
      "metadata": {
        "id": "view-in-github",
        "colab_type": "text"
      },
      "source": [
        "<a href=\"https://colab.research.google.com/github/flacprog/Python_Public/blob/main/Concatenar_Strings.ipynb\" target=\"_parent\"><img src=\"https://colab.research.google.com/assets/colab-badge.svg\" alt=\"Open In Colab\"/></a>"
      ]
    },
    {
      "cell_type": "code",
      "execution_count": null,
      "metadata": {
        "colab": {
          "base_uri": "https://localhost:8080/"
        },
        "id": "DA2dr768393X",
        "outputId": "ef69a5f3-7a29-4e79-be78-16202a9db00a"
      },
      "outputs": [
        {
          "output_type": "stream",
          "name": "stdout",
          "text": [
            "¡Cumpleaños Feliz! \n",
            "¡Cumpleaños Feliz! \n",
            "Te deseamos a ti,\n",
            "¡Cumpleaños Feliz! \n"
          ]
        }
      ],
      "source": [
        "s1= \"¡Cumpleaños Feliz! \"\n",
        "s2= \"Te deseamos a ti\"\n",
        "song= (s1 + \"\\n\") * 2 + s2 + \",\\n\" + s1\n",
        "print (song)"
      ]
    },
    {
      "cell_type": "code",
      "source": [
        "import cmath"
      ],
      "metadata": {
        "id": "CkHecZ8f9qnE"
      },
      "execution_count": null,
      "outputs": []
    },
    {
      "cell_type": "code",
      "source": [
        "Nombre = \"Ariel\"\n",
        "Edad = 42\n",
        "print(\"Me llamo \"+ Nombre + \" y tengo \" + str(Edad))"
      ],
      "metadata": {
        "colab": {
          "base_uri": "https://localhost:8080/"
        },
        "id": "DpunQ91C7-Qz",
        "outputId": "899ad4aa-daa6-4625-eacd-4ce33158d782"
      },
      "execution_count": null,
      "outputs": [
        {
          "output_type": "stream",
          "name": "stdout",
          "text": [
            "Me llamo Ariel y tengo 42\n"
          ]
        }
      ]
    }
  ]
}